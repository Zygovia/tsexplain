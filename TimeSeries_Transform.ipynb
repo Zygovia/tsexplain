{
 "cells": [
  {
   "cell_type": "code",
   "execution_count": 1,
   "metadata": {},
   "outputs": [],
   "source": [
    "%load_ext autoreload\n",
    "%autoreload 2\n",
    "%matplotlib inline\n",
    "from ipywidgets import FloatProgress\n",
    "from IPython.display import display\n",
    "\n",
    "from scipy.io import arff\n",
    "\n",
    "import numpy as np\n",
    "import time\n",
    "\n",
    "from sklearn.ensemble import BaggingClassifier\n",
    "from sklearn.neighbors import NearestNeighbors\n",
    "from sklearn.model_selection import cross_val_score\n",
    "from collections import defaultdict\n",
    "\n",
    "\n",
    "from wildboar.tree import ShapeletTreeClassifier\n",
    "from sklearn.ensemble import BaggingClassifier\n",
    "\n",
    "from wildboar._utils import print_tree\n",
    "\n",
    "from wildboar.distance import matches, distance\n",
    "import matplotlib.pylab as plt\n",
    "\n",
    "from tstransform.transform import NearestNeighbourLabelTransformer\n",
    "from tstransform.transform import IncrementalTreeLabelTransform\n",
    "from tstransform.transform import LockingIncrementalTreeLabelTransform\n",
    "\n",
    "from tstransform.evaluation import cost\n",
    "from tstransform.evaluation import differences\n",
    "\n",
    "import pandas as pd\n",
    "import matplotlib\n",
    "import seaborn as sns\n"
   ]
  },
  {
   "cell_type": "code",
   "execution_count": 2,
   "metadata": {},
   "outputs": [],
   "source": [
    "matplotlib.rc('text', usetex=True)\n",
    "plt.style.use(['seaborn-white', 'seaborn-paper'])\n",
    "sns.set_palette(\"colorblind\")\n",
    "def set_size(fig, ax, width=4, height=1.9):\n",
    "    fig.set_size_inches(width, height)\n",
    "    plt.tight_layout()\n",
    "    \n",
    "    if isinstance(ax, list):\n",
    "        for a in ax:\n",
    "            sns.despine(ax=a, left=False)    \n",
    "    else:\n",
    "        sns.despine(ax=ax, left=False)"
   ]
  },
  {
   "cell_type": "code",
   "execution_count": 3,
   "metadata": {},
   "outputs": [],
   "source": [
    "def group_labels(y):\n",
    "    tmp = defaultdict(list)\n",
    "    for i, label in enumerate(y):\n",
    "        tmp[label].append(i)\n",
    "\n",
    "    label_index = {label:np.array(arr) for label, arr in tmp.items()}\n",
    "    return dict(label_index)"
   ]
  },
  {
   "cell_type": "code",
   "execution_count": 4,
   "metadata": {},
   "outputs": [],
   "source": [
    "random_seed = 10"
   ]
  },
  {
   "cell_type": "code",
   "execution_count": 5,
   "metadata": {},
   "outputs": [],
   "source": [
    "def load_arff_data(dataset_name, train_fraction=0.8, random_seed=10):\n",
    "    rnd = np.random.RandomState(random_seed)\n",
    "\n",
    "    data, meta = arff.loadarff(\n",
    "        \"TSC Problems/{0}/{0}.arff\".format(dataset_name))\n",
    "    df = pd.DataFrame(data)\n",
    "    x = df.iloc[:, :-1].values\n",
    "    y = df.iloc[:, -1].values.astype(int)\n",
    "\n",
    "    idx = np.arange(x.shape[0])\n",
    "    rnd.shuffle(idx)\n",
    "\n",
    "    train_size = round(x.shape[0] * train_fraction)\n",
    "\n",
    "    x_train = x[idx[:train_size], :]\n",
    "    y_train = y[idx[:train_size]]\n",
    "\n",
    "    x_test = x[idx[train_size:], :]\n",
    "    y_test = y[idx[train_size:]]\n",
    "\n",
    "    label_index = group_labels(y_test)\n",
    "    \n",
    "    return x_train, y_train, x_test, y_test, label_index"
   ]
  },
  {
   "cell_type": "code",
   "execution_count": 6,
   "metadata": {},
   "outputs": [],
   "source": [
    "x_train, y_train, x_test, y_test, label_index = load_arff_data(\"ECG200\", random_seed=random_seed, train_fraction=0.7)"
   ]
  },
  {
   "cell_type": "code",
   "execution_count": 7,
   "metadata": {},
   "outputs": [],
   "source": [
    "to_label = 1\n",
    "from_label = -1"
   ]
  },
  {
   "cell_type": "code",
   "execution_count": 141,
   "metadata": {},
   "outputs": [],
   "source": [
    "t = IncrementalTreeLabelTransform(\n",
    "    epsilon=1,\n",
    "    random_state=random_seed,\n",
    "    n_shapelets=100,\n",
    "    max_shapelet_size=0.3,\n",
    "    n_jobs=8,\n",
    "    batch_size=0.1,\n",
    ")"
   ]
  },
  {
   "cell_type": "code",
   "execution_count": 158,
   "metadata": {},
   "outputs": [],
   "source": [
    "t = NearestNeighbourLabelTransformer(n_neighbors=3)"
   ]
  },
  {
   "cell_type": "code",
   "execution_count": 159,
   "metadata": {},
   "outputs": [
    {
     "data": {
      "text/plain": [
       "(<tstransform.transform.NearestNeighbourLabelTransformer at 0x7ff0820f5cc0>,\n",
       " KMeans(algorithm='auto', copy_x=True, init='k-means++', max_iter=300,\n",
       "     n_clusters=46, n_init=10, n_jobs=None, precompute_distances='auto',\n",
       "     random_state=10, tol=0.0001, verbose=0))"
      ]
     },
     "execution_count": 159,
     "metadata": {},
     "output_type": "execute_result"
    }
   ],
   "source": [
    "t.fit(x_train, y_train, to_label)"
   ]
  },
  {
   "cell_type": "code",
   "execution_count": 121,
   "metadata": {},
   "outputs": [
    {
     "data": {
      "text/plain": [
       "array([ 8, 43, 31,  0, 18, 35, 13, 18, 25,  5,  0, 29, 11, 18,  6, 38,  2,\n",
       "       24,  4, 18, 39, 18, 42, 31, 26, 25, 15,  1, 19, 11, 10,  3, 42, 17,\n",
       "       42, 31,  1, 12,  3, 45,  8,  6, 22, 16,  1,  3, 16, 38,  5,  1, 12,\n",
       "       18, 15, 18, 20,  8, 18, 16, 32,  3, 12, 12, 26,  8,  1, 18,  5, 24,\n",
       "       18, 40, 19, 28, 32, 33,  8, 28,  1,  8,  8, 13,  9,  1,  3, 42, 17,\n",
       "       37, 18,  6, 21, 38, 25, 38,  0, 12,  1, 42, 10,  3, 12, 12, 38,  3,\n",
       "       27, 21, 26, 15, 31, 34,  3, 41, 12, 30, 34, 11,  7, 23, 26, 32,  3,\n",
       "       44, 41,  8, 18,  6, 42, 31, 15,  2, 18, 31,  8, 25, 14, 36, 26,  3,\n",
       "       12,  4, 22, 12], dtype=int32)"
      ]
     },
     "execution_count": 121,
     "metadata": {},
     "output_type": "execute_result"
    }
   ],
   "source": [
    "b.labels_"
   ]
  },
  {
   "cell_type": "code",
   "execution_count": 122,
   "metadata": {},
   "outputs": [
    {
     "data": {
      "text/plain": [
       "array([ 1, -1,  1,  1,  1, -1, -1,  1, -1, -1,  1, -1,  1,  1, -1, -1,  1,\n",
       "       -1, -1,  1,  1,  1,  1,  1, -1, -1,  1, -1, -1,  1, -1,  1,  1, -1,\n",
       "        1,  1, -1,  1,  1, -1,  1, -1,  1,  1, -1,  1,  1,  1, -1,  1,  1,\n",
       "        1,  1,  1, -1,  1,  1,  1, -1,  1,  1,  1,  1,  1, -1,  1, -1, -1,\n",
       "        1, -1, -1,  1, -1, -1,  1,  1, -1,  1,  1, -1,  1, -1,  1,  1, -1,\n",
       "       -1,  1, -1, -1,  1, -1,  1,  1,  1, -1,  1,  1,  1,  1,  1,  1,  1,\n",
       "       -1, -1,  1,  1,  1,  1,  1,  1,  1, -1,  1,  1, -1,  1, -1, -1,  1,\n",
       "       -1,  1,  1,  1, -1,  1,  1, -1,  1,  1,  1,  1, -1, -1,  1, -1,  1,\n",
       "        1, -1, -1,  1])"
      ]
     },
     "execution_count": 122,
     "metadata": {},
     "output_type": "execute_result"
    }
   ],
   "source": [
    "y_train"
   ]
  },
  {
   "cell_type": "code",
   "execution_count": 131,
   "metadata": {},
   "outputs": [
    {
     "data": {
      "text/plain": [
       "[<matplotlib.lines.Line2D at 0x7ff08251bb70>]"
      ]
     },
     "execution_count": 131,
     "metadata": {},
     "output_type": "execute_result"
    },
    {
     "data": {
      "image/png": "[encoded data removed]",
      "text/plain": [
       "<Figure size 460.8x316.8 with 1 Axes>"
      ]
     },
     "metadata": {},
     "output_type": "display_data"
    }
   ],
   "source": [
    "plt.plot(b.cluster_centers_[8,:])\n",
    "plt.plot(x_train[0,:])"
   ]
  },
  {
   "cell_type": "code",
   "execution_count": 161,
   "metadata": {},
   "outputs": [
    {
     "data": {
      "text/plain": [
       "array([1])"
      ]
     },
     "execution_count": 161,
     "metadata": {},
     "output_type": "execute_result"
    },
    {
     "data": {
      "image/png": "[encoded data removed]",
      "text/plain": [
       "<Figure size 460.8x316.8 with 1 Axes>"
      ]
     },
     "metadata": {},
     "output_type": "display_data"
    }
   ],
   "source": [
    "trf = t.transform(x_train[6, :].reshape(1, -1)).reshape(-1)\n",
    "plt.plot(trf)\n",
    "plt.plot(x_train[6, :])\n",
    "t.predict(trf.reshape(1, -1))"
   ]
  },
  {
   "cell_type": "code",
   "execution_count": null,
   "metadata": {},
   "outputs": [],
   "source": []
  },
  {
   "cell_type": "code",
   "execution_count": 163,
   "metadata": {},
   "outputs": [],
   "source": [
    "cond = t.predict(x_test) == from_label\n",
    "x_from = x_test[cond]\n",
    "y_from = y_test[cond]\n",
    "x_prime = t.transform(x_from)"
   ]
  },
  {
   "cell_type": "code",
   "execution_count": 164,
   "metadata": {},
   "outputs": [],
   "source": [
    "x_from_ir = x_from\n",
    "x_prime_ir = x_prime"
   ]
  },
  {
   "cell_type": "code",
   "execution_count": 165,
   "metadata": {},
   "outputs": [
    {
     "data": {
      "text/plain": [
       "0.9666666666666667"
      ]
     },
     "execution_count": 165,
     "metadata": {},
     "output_type": "execute_result"
    }
   ],
   "source": [
    "t.score(x_test, y_test)"
   ]
  },
  {
   "cell_type": "code",
   "execution_count": 166,
   "metadata": {},
   "outputs": [
    {
     "data": {
      "text/plain": [
       "NearestNeighbors(algorithm='auto', leaf_size=30, metric='euclidean',\n",
       "         metric_params=None, n_jobs=None, n_neighbors=1, p=2, radius=1.0)"
      ]
     },
     "execution_count": 166,
     "metadata": {},
     "output_type": "execute_result"
    }
   ],
   "source": [
    "neigh = NearestNeighbors(1, metric=\"euclidean\")\n",
    "neigh.fit(x_train[y_train == to_label])"
   ]
  },
  {
   "cell_type": "code",
   "execution_count": 167,
   "metadata": {},
   "outputs": [
    {
     "name": "stdout",
     "output_type": "stream",
     "text": [
      "[2]\n",
      "[[48]]\n",
      "Transformation cost    : 5.5306363902273485\n",
      "Transformation fraction: 1.0\n"
     ]
    },
    {
     "data": {
      "image/png": "[encoded data removed]",
      "text/plain": [
       "<Figure size 288x136.8 with 1 Axes>"
      ]
     },
     "metadata": {},
     "output_type": "display_data"
    }
   ],
   "source": [
    "idx=np.random.randint(0, x_prime.shape[0], size=1)#\n",
    "print(idx)\n",
    "def plot_example(ax, x_i, min_x, closest, x_train, y_train, to_label, from_label, nn_x=None):\n",
    "    ax.plot(min_x, color=sns.xkcd_rgb[\"amber\"], label=\"$f(T')$={}\".format(\"Normal\"))\n",
    "    ax.plot(x_i, color=sns.xkcd_rgb[\"windows blue\"], label=\"$f(T)$={}\".format(\"Abnormal\"))\n",
    "    if nn_x is not None:\n",
    "        ax.plot(nn_x, \n",
    "                c=\"gray\", \n",
    "                dashes=[2, 2], \n",
    "                label=\"$NN_1(T,  D_{y=\" + str(\"Normal\") + \"})$\",\n",
    "        )\n",
    "\n",
    "closest = neigh.kneighbors(x_from[idx], return_distance=False)\n",
    "print(closest)\n",
    "nn_x = x_train[y_train == to_label][closest.reshape(-1)].reshape(-1)\n",
    "fig, ax = plt.subplots(1)\n",
    "plot_example(ax, \n",
    "             x_from[idx].reshape(-1), \n",
    "             x_prime[idx].reshape(-1), \n",
    "             closest, \n",
    "             x_train, \n",
    "             y_train, \n",
    "             to_label, \n",
    "             from_label, \n",
    "             None)\n",
    "#plot_example(ax, x_from[idx], nn_x_prime[idx], closest, x_train, y_train, to_label, from_label)\n",
    "plt.legend(loc=1)\n",
    "plt.xlabel(\"Time\")\n",
    "plt.ylabel(\"Voltage\")\n",
    "#plt.ylim([-3, 6])\n",
    "set_size(fig, ax)\n",
    "#plt.title(\"SE transform (cost: {:.2f}, %-change: {:.2f})\")\n",
    "plt.savefig(\"figure/ecg_200_motivation.pdf\")\n",
    "print(\"Transformation cost    :\", cost(x_prime[idx].reshape(1, -1), x_from[idx].reshape(1, -1)))\n",
    "print(\"Transformation fraction:\", differences(x_prime[idx], x_from[idx], axis=0))"
   ]
  },
  {
   "cell_type": "code",
   "execution_count": 150,
   "metadata": {},
   "outputs": [
    {
     "name": "stdout",
     "output_type": "stream",
     "text": [
      "Transformation cost    : 1.0190504504710192\n",
      "Transformation fraction: 0.15625\n"
     ]
    },
    {
     "data": {
      "image/png": "[encoded data removed]",
      "text/plain": [
       "<Figure size 288x216 with 3 Axes>"
      ]
     },
     "metadata": {},
     "output_type": "display_data"
    }
   ],
   "source": [
    "idx=1 # change me\n",
    "closest = neigh.kneighbors(x_from[idx].reshape(1, -1), return_distance=False)\n",
    "fig, [ax_1, ax_2, ax_3] = plt.subplots(3, sharex=True)\n",
    "plot_example(ax_2, x_from[idx], x_prime[idx], closest, x_train, y_train, to_label, from_label)\n",
    "plot_example(ax_1, x_from_ir[idx], x_prime_ir[idx], closest, x_train, y_train, to_label, from_label)\n",
    "#plot_example(ax, x_from[idx], nn_x_prime[idx], closest, x_train, y_train, to_label, from_label)\n",
    "ax_1.legend()\n",
    "ax_2.legend()\n",
    "#ax_1.set_xlabel(\"Time\")\n",
    "#ax_1.set_ylabel(\"Spectral density\")\n",
    "ax_1.set_title(\"Reversible tweaking ($\\tau_{RT}$)\")\n",
    "ax_2.set_title(\"Irreversible tweaking ($\\tau_{IRT}$)\")\n",
    "ax_3.plot(np.mean(x_test[y_test==to_label], axis=0), color=sns.xkcd_rgb[\"amber\"], label=\"$\\\\mu_{y=\"+str(to_label)+\"}$\")\n",
    "ax_3.plot(np.mean(x_test[y_test==from_label], axis=0),  color=sns.xkcd_rgb[\"windows blue\"], label=\"$\\\\mu_{y=\"+str(from_label)+\"}$\")\n",
    "#ax_3.plot(np.mean(x_prime_ir, axis=0),  color=sns.xkcd_rgb[\"blue\"], label=\"$\\\\mu_{y=\"+str(from_label)+\"}$\")\n",
    "#ax_3.plot(np.nanmean(x_prime, axis=0),  color=sns.xkcd_rgb[\"green\"], label=\"$\\\\mu_{y=\"+str(from_label)+\"}$\")\n",
    "ax_3.set_title(\"Average per class\")\n",
    "ax_3.set_xlabel(\"Time\")\n",
    "ax_3.legend()\n",
    "#ax_2.set_ylabel(\"Spectral density\")\n",
    "set_size(fig, [ax_1, ax_2, ax_3], height=3)\n",
    "#plt.title(\"SE transform (cost: {:.2f}, %-change: {:.2f})\")\n",
    "plt.savefig(\"figure/example_transform_insect.pdf\")\n",
    "print(\"Transformation cost    :\", cost(x_prime[idx].reshape(1, -1), x_from[idx].reshape(1, -1)))\n",
    "print(\"Transformation fraction:\", differences(x_prime[idx], x_from[idx], axis=0))"
   ]
  },
  {
   "cell_type": "code",
   "execution_count": 21,
   "metadata": {},
   "outputs": [
    {
     "ename": "ValueError",
     "evalue": "query data dimension must match training data dimension",
     "output_type": "error",
     "traceback": [
      "\u001b[0;31m---------------------------------------------------------------------------\u001b[0m",
      "\u001b[0;31mValueError\u001b[0m                                Traceback (most recent call last)",
      "\u001b[0;32m<ipython-input-21-b4050ba8c875>\u001b[0m in \u001b[0;36m<module>\u001b[0;34m\u001b[0m\n\u001b[1;32m      9\u001b[0m         )\n\u001b[1;32m     10\u001b[0m \u001b[0;34m\u001b[0m\u001b[0m\n\u001b[0;32m---> 11\u001b[0;31m \u001b[0mclosest\u001b[0m \u001b[0;34m=\u001b[0m \u001b[0mneigh\u001b[0m\u001b[0;34m.\u001b[0m\u001b[0mkneighbors\u001b[0m\u001b[0;34m(\u001b[0m\u001b[0mx_prime\u001b[0m\u001b[0;34m[\u001b[0m\u001b[0midx\u001b[0m\u001b[0;34m]\u001b[0m\u001b[0;34m.\u001b[0m\u001b[0mreshape\u001b[0m\u001b[0;34m(\u001b[0m\u001b[0;36m1\u001b[0m\u001b[0;34m,\u001b[0m \u001b[0;34m-\u001b[0m\u001b[0;36m1\u001b[0m\u001b[0;34m)\u001b[0m\u001b[0;34m,\u001b[0m \u001b[0mreturn_distance\u001b[0m\u001b[0;34m=\u001b[0m\u001b[0;32mFalse\u001b[0m\u001b[0;34m)\u001b[0m\u001b[0;34m\u001b[0m\u001b[0;34m\u001b[0m\u001b[0m\n\u001b[0m\u001b[1;32m     12\u001b[0m \u001b[0mfig\u001b[0m\u001b[0;34m,\u001b[0m \u001b[0max\u001b[0m \u001b[0;34m=\u001b[0m \u001b[0mplt\u001b[0m\u001b[0;34m.\u001b[0m\u001b[0msubplots\u001b[0m\u001b[0;34m(\u001b[0m\u001b[0;36m1\u001b[0m\u001b[0;34m)\u001b[0m\u001b[0;34m\u001b[0m\u001b[0;34m\u001b[0m\u001b[0m\n\u001b[1;32m     13\u001b[0m \u001b[0mplot_example\u001b[0m\u001b[0;34m(\u001b[0m\u001b[0max\u001b[0m\u001b[0;34m,\u001b[0m \u001b[0mx_from\u001b[0m\u001b[0;34m[\u001b[0m\u001b[0midx\u001b[0m\u001b[0;34m]\u001b[0m\u001b[0;34m,\u001b[0m \u001b[0mx_prime\u001b[0m\u001b[0;34m[\u001b[0m\u001b[0midx\u001b[0m\u001b[0;34m]\u001b[0m\u001b[0;34m,\u001b[0m \u001b[0mclosest\u001b[0m\u001b[0;34m,\u001b[0m \u001b[0mx_train\u001b[0m\u001b[0;34m,\u001b[0m \u001b[0my_train\u001b[0m\u001b[0;34m,\u001b[0m \u001b[0mto_label\u001b[0m\u001b[0;34m,\u001b[0m \u001b[0mfrom_label\u001b[0m\u001b[0;34m)\u001b[0m\u001b[0;34m\u001b[0m\u001b[0;34m\u001b[0m\u001b[0m\n",
      "\u001b[0;32m~/.virtualenvs/tests/lib/python3.7/site-packages/sklearn/neighbors/base.py\u001b[0m in \u001b[0;36mkneighbors\u001b[0;34m(self, X, n_neighbors, return_distance)\u001b[0m\n\u001b[1;32m    441\u001b[0m                 delayed_query(\n\u001b[1;32m    442\u001b[0m                     X[s], n_neighbors, return_distance)\n\u001b[0;32m--> 443\u001b[0;31m                 \u001b[0;32mfor\u001b[0m \u001b[0ms\u001b[0m \u001b[0;32min\u001b[0m \u001b[0mgen_even_slices\u001b[0m\u001b[0;34m(\u001b[0m\u001b[0mX\u001b[0m\u001b[0;34m.\u001b[0m\u001b[0mshape\u001b[0m\u001b[0;34m[\u001b[0m\u001b[0;36m0\u001b[0m\u001b[0;34m]\u001b[0m\u001b[0;34m,\u001b[0m \u001b[0mn_jobs\u001b[0m\u001b[0;34m)\u001b[0m\u001b[0;34m\u001b[0m\u001b[0;34m\u001b[0m\u001b[0m\n\u001b[0m\u001b[1;32m    444\u001b[0m             )\n\u001b[1;32m    445\u001b[0m         \u001b[0;32melse\u001b[0m\u001b[0;34m:\u001b[0m\u001b[0;34m\u001b[0m\u001b[0;34m\u001b[0m\u001b[0m\n",
      "\u001b[0;32m~/.virtualenvs/tests/lib/python3.7/site-packages/sklearn/externals/joblib/parallel.py\u001b[0m in \u001b[0;36m__call__\u001b[0;34m(self, iterable)\u001b[0m\n\u001b[1;32m    981\u001b[0m             \u001b[0;31m# remaining jobs.\u001b[0m\u001b[0;34m\u001b[0m\u001b[0;34m\u001b[0m\u001b[0;34m\u001b[0m\u001b[0m\n\u001b[1;32m    982\u001b[0m             \u001b[0mself\u001b[0m\u001b[0;34m.\u001b[0m\u001b[0m_iterating\u001b[0m \u001b[0;34m=\u001b[0m \u001b[0;32mFalse\u001b[0m\u001b[0;34m\u001b[0m\u001b[0;34m\u001b[0m\u001b[0m\n\u001b[0;32m--> 983\u001b[0;31m             \u001b[0;32mif\u001b[0m \u001b[0mself\u001b[0m\u001b[0;34m.\u001b[0m\u001b[0mdispatch_one_batch\u001b[0m\u001b[0;34m(\u001b[0m\u001b[0miterator\u001b[0m\u001b[0;34m)\u001b[0m\u001b[0;34m:\u001b[0m\u001b[0;34m\u001b[0m\u001b[0;34m\u001b[0m\u001b[0m\n\u001b[0m\u001b[1;32m    984\u001b[0m                 \u001b[0mself\u001b[0m\u001b[0;34m.\u001b[0m\u001b[0m_iterating\u001b[0m \u001b[0;34m=\u001b[0m \u001b[0mself\u001b[0m\u001b[0;34m.\u001b[0m\u001b[0m_original_iterator\u001b[0m \u001b[0;32mis\u001b[0m \u001b[0;32mnot\u001b[0m \u001b[0;32mNone\u001b[0m\u001b[0;34m\u001b[0m\u001b[0;34m\u001b[0m\u001b[0m\n\u001b[1;32m    985\u001b[0m \u001b[0;34m\u001b[0m\u001b[0m\n",
      "\u001b[0;32m~/.virtualenvs/tests/lib/python3.7/site-packages/sklearn/externals/joblib/parallel.py\u001b[0m in \u001b[0;36mdispatch_one_batch\u001b[0;34m(self, iterator)\u001b[0m\n\u001b[1;32m    823\u001b[0m                 \u001b[0;32mreturn\u001b[0m \u001b[0;32mFalse\u001b[0m\u001b[0;34m\u001b[0m\u001b[0;34m\u001b[0m\u001b[0m\n\u001b[1;32m    824\u001b[0m             \u001b[0;32melse\u001b[0m\u001b[0;34m:\u001b[0m\u001b[0;34m\u001b[0m\u001b[0;34m\u001b[0m\u001b[0m\n\u001b[0;32m--> 825\u001b[0;31m                 \u001b[0mself\u001b[0m\u001b[0;34m.\u001b[0m\u001b[0m_dispatch\u001b[0m\u001b[0;34m(\u001b[0m\u001b[0mtasks\u001b[0m\u001b[0;34m)\u001b[0m\u001b[0;34m\u001b[0m\u001b[0;34m\u001b[0m\u001b[0m\n\u001b[0m\u001b[1;32m    826\u001b[0m                 \u001b[0;32mreturn\u001b[0m \u001b[0;32mTrue\u001b[0m\u001b[0;34m\u001b[0m\u001b[0;34m\u001b[0m\u001b[0m\n\u001b[1;32m    827\u001b[0m \u001b[0;34m\u001b[0m\u001b[0m\n",
      "\u001b[0;32m~/.virtualenvs/tests/lib/python3.7/site-packages/sklearn/externals/joblib/parallel.py\u001b[0m in \u001b[0;36m_dispatch\u001b[0;34m(self, batch)\u001b[0m\n\u001b[1;32m    780\u001b[0m         \u001b[0;32mwith\u001b[0m \u001b[0mself\u001b[0m\u001b[0;34m.\u001b[0m\u001b[0m_lock\u001b[0m\u001b[0;34m:\u001b[0m\u001b[0;34m\u001b[0m\u001b[0;34m\u001b[0m\u001b[0m\n\u001b[1;32m    781\u001b[0m             \u001b[0mjob_idx\u001b[0m \u001b[0;34m=\u001b[0m \u001b[0mlen\u001b[0m\u001b[0;34m(\u001b[0m\u001b[0mself\u001b[0m\u001b[0;34m.\u001b[0m\u001b[0m_jobs\u001b[0m\u001b[0;34m)\u001b[0m\u001b[0;34m\u001b[0m\u001b[0;34m\u001b[0m\u001b[0m\n\u001b[0;32m--> 782\u001b[0;31m             \u001b[0mjob\u001b[0m \u001b[0;34m=\u001b[0m \u001b[0mself\u001b[0m\u001b[0;34m.\u001b[0m\u001b[0m_backend\u001b[0m\u001b[0;34m.\u001b[0m\u001b[0mapply_async\u001b[0m\u001b[0;34m(\u001b[0m\u001b[0mbatch\u001b[0m\u001b[0;34m,\u001b[0m \u001b[0mcallback\u001b[0m\u001b[0;34m=\u001b[0m\u001b[0mcb\u001b[0m\u001b[0;34m)\u001b[0m\u001b[0;34m\u001b[0m\u001b[0;34m\u001b[0m\u001b[0m\n\u001b[0m\u001b[1;32m    783\u001b[0m             \u001b[0;31m# A job can complete so quickly than its callback is\u001b[0m\u001b[0;34m\u001b[0m\u001b[0;34m\u001b[0m\u001b[0;34m\u001b[0m\u001b[0m\n\u001b[1;32m    784\u001b[0m             \u001b[0;31m# called before we get here, causing self._jobs to\u001b[0m\u001b[0;34m\u001b[0m\u001b[0;34m\u001b[0m\u001b[0;34m\u001b[0m\u001b[0m\n",
      "\u001b[0;32m~/.virtualenvs/tests/lib/python3.7/site-packages/sklearn/externals/joblib/_parallel_backends.py\u001b[0m in \u001b[0;36mapply_async\u001b[0;34m(self, func, callback)\u001b[0m\n\u001b[1;32m    180\u001b[0m     \u001b[0;32mdef\u001b[0m \u001b[0mapply_async\u001b[0m\u001b[0;34m(\u001b[0m\u001b[0mself\u001b[0m\u001b[0;34m,\u001b[0m \u001b[0mfunc\u001b[0m\u001b[0;34m,\u001b[0m \u001b[0mcallback\u001b[0m\u001b[0;34m=\u001b[0m\u001b[0;32mNone\u001b[0m\u001b[0;34m)\u001b[0m\u001b[0;34m:\u001b[0m\u001b[0;34m\u001b[0m\u001b[0;34m\u001b[0m\u001b[0m\n\u001b[1;32m    181\u001b[0m         \u001b[0;34m\"\"\"Schedule a func to be run\"\"\"\u001b[0m\u001b[0;34m\u001b[0m\u001b[0;34m\u001b[0m\u001b[0m\n\u001b[0;32m--> 182\u001b[0;31m         \u001b[0mresult\u001b[0m \u001b[0;34m=\u001b[0m \u001b[0mImmediateResult\u001b[0m\u001b[0;34m(\u001b[0m\u001b[0mfunc\u001b[0m\u001b[0;34m)\u001b[0m\u001b[0;34m\u001b[0m\u001b[0;34m\u001b[0m\u001b[0m\n\u001b[0m\u001b[1;32m    183\u001b[0m         \u001b[0;32mif\u001b[0m \u001b[0mcallback\u001b[0m\u001b[0;34m:\u001b[0m\u001b[0;34m\u001b[0m\u001b[0;34m\u001b[0m\u001b[0m\n\u001b[1;32m    184\u001b[0m             \u001b[0mcallback\u001b[0m\u001b[0;34m(\u001b[0m\u001b[0mresult\u001b[0m\u001b[0;34m)\u001b[0m\u001b[0;34m\u001b[0m\u001b[0;34m\u001b[0m\u001b[0m\n",
      "\u001b[0;32m~/.virtualenvs/tests/lib/python3.7/site-packages/sklearn/externals/joblib/_parallel_backends.py\u001b[0m in \u001b[0;36m__init__\u001b[0;34m(self, batch)\u001b[0m\n\u001b[1;32m    543\u001b[0m         \u001b[0;31m# Don't delay the application, to avoid keeping the input\u001b[0m\u001b[0;34m\u001b[0m\u001b[0;34m\u001b[0m\u001b[0;34m\u001b[0m\u001b[0m\n\u001b[1;32m    544\u001b[0m         \u001b[0;31m# arguments in memory\u001b[0m\u001b[0;34m\u001b[0m\u001b[0;34m\u001b[0m\u001b[0;34m\u001b[0m\u001b[0m\n\u001b[0;32m--> 545\u001b[0;31m         \u001b[0mself\u001b[0m\u001b[0;34m.\u001b[0m\u001b[0mresults\u001b[0m \u001b[0;34m=\u001b[0m \u001b[0mbatch\u001b[0m\u001b[0;34m(\u001b[0m\u001b[0;34m)\u001b[0m\u001b[0;34m\u001b[0m\u001b[0;34m\u001b[0m\u001b[0m\n\u001b[0m\u001b[1;32m    546\u001b[0m \u001b[0;34m\u001b[0m\u001b[0m\n\u001b[1;32m    547\u001b[0m     \u001b[0;32mdef\u001b[0m \u001b[0mget\u001b[0m\u001b[0;34m(\u001b[0m\u001b[0mself\u001b[0m\u001b[0;34m)\u001b[0m\u001b[0;34m:\u001b[0m\u001b[0;34m\u001b[0m\u001b[0;34m\u001b[0m\u001b[0m\n",
      "\u001b[0;32m~/.virtualenvs/tests/lib/python3.7/site-packages/sklearn/externals/joblib/parallel.py\u001b[0m in \u001b[0;36m__call__\u001b[0;34m(self)\u001b[0m\n\u001b[1;32m    259\u001b[0m         \u001b[0;32mwith\u001b[0m \u001b[0mparallel_backend\u001b[0m\u001b[0;34m(\u001b[0m\u001b[0mself\u001b[0m\u001b[0;34m.\u001b[0m\u001b[0m_backend\u001b[0m\u001b[0;34m)\u001b[0m\u001b[0;34m:\u001b[0m\u001b[0;34m\u001b[0m\u001b[0;34m\u001b[0m\u001b[0m\n\u001b[1;32m    260\u001b[0m             return [func(*args, **kwargs)\n\u001b[0;32m--> 261\u001b[0;31m                     for func, args, kwargs in self.items]\n\u001b[0m\u001b[1;32m    262\u001b[0m \u001b[0;34m\u001b[0m\u001b[0m\n\u001b[1;32m    263\u001b[0m     \u001b[0;32mdef\u001b[0m \u001b[0m__len__\u001b[0m\u001b[0;34m(\u001b[0m\u001b[0mself\u001b[0m\u001b[0;34m)\u001b[0m\u001b[0;34m:\u001b[0m\u001b[0;34m\u001b[0m\u001b[0;34m\u001b[0m\u001b[0m\n",
      "\u001b[0;32m~/.virtualenvs/tests/lib/python3.7/site-packages/sklearn/externals/joblib/parallel.py\u001b[0m in \u001b[0;36m<listcomp>\u001b[0;34m(.0)\u001b[0m\n\u001b[1;32m    259\u001b[0m         \u001b[0;32mwith\u001b[0m \u001b[0mparallel_backend\u001b[0m\u001b[0;34m(\u001b[0m\u001b[0mself\u001b[0m\u001b[0;34m.\u001b[0m\u001b[0m_backend\u001b[0m\u001b[0;34m)\u001b[0m\u001b[0;34m:\u001b[0m\u001b[0;34m\u001b[0m\u001b[0;34m\u001b[0m\u001b[0m\n\u001b[1;32m    260\u001b[0m             return [func(*args, **kwargs)\n\u001b[0;32m--> 261\u001b[0;31m                     for func, args, kwargs in self.items]\n\u001b[0m\u001b[1;32m    262\u001b[0m \u001b[0;34m\u001b[0m\u001b[0m\n\u001b[1;32m    263\u001b[0m     \u001b[0;32mdef\u001b[0m \u001b[0m__len__\u001b[0m\u001b[0;34m(\u001b[0m\u001b[0mself\u001b[0m\u001b[0;34m)\u001b[0m\u001b[0;34m:\u001b[0m\u001b[0;34m\u001b[0m\u001b[0;34m\u001b[0m\u001b[0m\n",
      "\u001b[0;32msklearn/neighbors/binary_tree.pxi\u001b[0m in \u001b[0;36msklearn.neighbors.kd_tree.BinaryTree.query\u001b[0;34m()\u001b[0m\n",
      "\u001b[0;31mValueError\u001b[0m: query data dimension must match training data dimension"
     ]
    }
   ],
   "source": [
    "def plot_example(ax, x_i, min_x, closest, x_train, y_train, to_label, from_label):\n",
    "    ax.plot(min_x, color=sns.xkcd_rgb[\"amber\"], label=\"$f(T')={}$\".format(to_label))\n",
    "    ax.plot(x_i, color=sns.xkcd_rgb[\"windows blue\"], label=\"$f(T)={}$\".format(from_label))\n",
    "    for i in range(closest.shape[1]):\n",
    "        ax.plot(x_train[y_train == to_label][closest[0, i]], \n",
    "                c=\"gray\", \n",
    "                dashes=[2, 2], \n",
    "                label=\"$NN_1(T',  D_{y=\" + str(to_label) + \"})$\",\n",
    "        )\n",
    "\n",
    "closest = neigh.kneighbors(x_prime[idx].reshape(1, -1), return_distance=False)\n",
    "fig, ax = plt.subplots(1)\n",
    "plot_example(ax, x_from[idx], x_prime[idx], closest, x_train, y_train, to_label, from_label)\n",
    "plt.legend()\n",
    "set_size(fig, ax)\n",
    "#plt.title(\"SE transform (cost: {:.2f}, %-change: {:.2f})\")\n",
    "plt.savefig(\"figure/gun_point_example.pdf\")\n",
    "print(\"Transformation cost    :\", cost(x_prime[idx].reshape(1, -1), x_from[idx].reshape(1, -1)))\n",
    "print(\"Transformation fraction:\", differences(x_prime[idx], x_from[idx]))"
   ]
  },
  {
   "cell_type": "code",
   "execution_count": 3,
   "metadata": {},
   "outputs": [],
   "source": [
    "def shape_transform_(s, x, i, theta):\n",
    "    \"\"\"\n",
    "    :param s: the shapelet\n",
    "    :param x: the time series\n",
    "    :param i: the matching location\n",
    "    :param theta: the desired distance\n",
    "    :returns: the shapelet with `theta`-distance\n",
    "    \"\"\"\n",
    "    x_match = x[i:(i + s.shape[0])]\n",
    "    v = (x_match - s) \n",
    "    norm_v = np.linalg.norm(v)\n",
    "    if norm_v == 0:\n",
    "        x_match = np.random.uniform(s.shape)\n",
    "        v = (x_match - s)\n",
    "        norm_v = np.linalg.norm(v)\n",
    "\n",
    "    return s + v / norm_v * theta"
   ]
  },
  {
   "cell_type": "code",
   "execution_count": 14,
   "metadata": {},
   "outputs": [
    {
     "data": {
      "image/png": "[encoded data removed]",
      "text/plain": [
       "<Figure size 180x158.4 with 1 Axes>"
      ]
     },
     "metadata": {},
     "output_type": "display_data"
    }
   ],
   "source": [
    "def circ(r):\n",
    "    x = np.linspace(0, 2*np.pi, 100)\n",
    "    return r*np.cos(x), r*np.sin(x)\n",
    "\n",
    "fig, ax = plt.subplots(1)\n",
    "#if s.shape[0] == 2:\n",
    "plt.plot(*(np.vstack(circ(theta))+s.reshape(-1, 1)), color=sns.xkcd_rgb[\"warm grey\"], dashes=[2,2], label=\"$\\\\theta$\")\n",
    "#elif s.shape[0] == 1:\n",
    "#plt.plot(np.arange(-theta, theta), np.zeros(theta*2))\n",
    "#else:\n",
    "#    raise ValueError()\n",
    "plt.scatter(*s, label=\"$S$\", color=sns.xkcd_rgb[\"amber\"])\n",
    "plt.annotate(\"$S=[{}]$\".format(\",\".join(map(str, s))), xy=s+0.05)\n",
    "plt.scatter(*t, label=\"$\\\\mathbf{S}$\", color=sns.xkcd_rgb[\"windows blue\"])\n",
    "plt.annotate(\"$\\\\mathbf{{S}}=[{}]$\".format(\",\".join(map(str, t))), xy=t+0.05)\n",
    "plt.scatter(*p, label=\"$T'$\", color=sns.xkcd_rgb[\"faded green\"])\n",
    "plt.annotate(\"$\\\\mathcal{{S}}'=[{}]$\".format(\",\".join(map(lambda ss: \"{:.2f}\".format(ss), p))), xy=p+0.05)\n",
    "plt.legend(loc=4)\n",
    "plt.ylim([-1, 1.5])\n",
    "plt.xlim([0.3, 3.2])\n",
    "set_size(fig, ax, width=2.5, height=2.2)\n",
    "sns.despine(fig, ax, top=False, right=False)\n",
    "plt.savefig(\"figure/example_move.pdf\")\n",
    "#plt.xlim([-theta*2, theta*2])\n",
    "#plt.ylim([-theta*2, theta*2])"
   ]
  }
 ],
 "metadata": {
  "kernelspec": {
   "display_name": "Python 3",
   "language": "python",
   "name": "python3"
  },
  "language_info": {
   "codemirror_mode": {
    "name": "ipython",
    "version": 3
   },
   "file_extension": ".py",
   "mimetype": "text/x-python",
   "name": "python",
   "nbconvert_exporter": "python",
   "pygments_lexer": "ipython3",
   "version": "3.7.1"
  }
 },
 "nbformat": 4,
 "nbformat_minor": 2
}
